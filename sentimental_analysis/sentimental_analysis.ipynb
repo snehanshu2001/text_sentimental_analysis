{
  "nbformat": 4,
  "nbformat_minor": 0,
  "metadata": {
    "colab": {
      "name": "sentimental analysis.ipynb",
      "provenance": [],
      "collapsed_sections": []
    },
    "kernelspec": {
      "name": "python3",
      "display_name": "Python 3"
    },
    "language_info": {
      "name": "python"
    }
  },
  "cells": [
    {
      "cell_type": "code",
      "execution_count": null,
      "metadata": {
        "id": "TuOthWzAZn1m"
      },
      "outputs": [],
      "source": [
        "from google.colab import drive"
      ]
    },
    {
      "cell_type": "code",
      "source": [
        "drive.mount('/content/drive')"
      ],
      "metadata": {
        "colab": {
          "base_uri": "https://localhost:8080/"
        },
        "id": "C9W0b7BuandD",
        "outputId": "c80d3582-2b67-4520-cd79-ba61969dd1ee"
      },
      "execution_count": null,
      "outputs": [
        {
          "output_type": "stream",
          "name": "stdout",
          "text": [
            "Mounted at /content/drive\n"
          ]
        }
      ]
    },
    {
      "cell_type": "code",
      "source": [
        "!pip install emoji"
      ],
      "metadata": {
        "colab": {
          "base_uri": "https://localhost:8080/"
        },
        "id": "VRy5JDgDbPtY",
        "outputId": "e65a694c-d1bd-42cc-8b1e-20c3630baf07"
      },
      "execution_count": null,
      "outputs": [
        {
          "output_type": "stream",
          "name": "stdout",
          "text": [
            "Looking in indexes: https://pypi.org/simple, https://us-python.pkg.dev/colab-wheels/public/simple/\n",
            "Collecting emoji\n",
            "  Downloading emoji-2.0.0.tar.gz (197 kB)\n",
            "\u001b[K     |████████████████████████████████| 197 kB 12.8 MB/s \n",
            "\u001b[?25hBuilding wheels for collected packages: emoji\n",
            "  Building wheel for emoji (setup.py) ... \u001b[?25l\u001b[?25hdone\n",
            "  Created wheel for emoji: filename=emoji-2.0.0-py3-none-any.whl size=193022 sha256=d7c7fa1a2b3875d1b4a1e1d569bd53c8cdcf3363e599aea00b0bfc0ef8e57cf0\n",
            "  Stored in directory: /root/.cache/pip/wheels/ec/29/4d/3cfe7452ac7d8d83b1930f8a6205c3c9649b24e80f9029fc38\n",
            "Successfully built emoji\n",
            "Installing collected packages: emoji\n",
            "Successfully installed emoji-2.0.0\n"
          ]
        }
      ]
    },
    {
      "cell_type": "code",
      "source": [
        "import numpy as np \n",
        "import pandas as pd \n",
        "pd.set_option('display.max_colwidth', -1)\n",
        "from time import time\n",
        "import re\n",
        "import string\n",
        "import os\n",
        "import emoji\n",
        "from pprint import pprint\n",
        "import collections\n",
        "import matplotlib.pyplot as plt\n",
        "import seaborn as sns\n",
        "sns.set(style=\"darkgrid\")\n",
        "sns.set(font_scale=1.3)\n",
        "from sklearn.base import BaseEstimator, TransformerMixin\n",
        "from sklearn.feature_extraction.text import CountVectorizer\n",
        "from sklearn.feature_extraction.text import TfidfVectorizer\n",
        "from sklearn.model_selection import GridSearchCV\n",
        "from sklearn.model_selection import train_test_split\n",
        "from sklearn.pipeline import Pipeline, FeatureUnion\n",
        "from sklearn.metrics import classification_report\n",
        "from sklearn.naive_bayes import MultinomialNB\n",
        "from sklearn.linear_model import LogisticRegression\n",
        "import joblib\n",
        "import gensim\n",
        "from nltk.corpus import stopwords\n",
        "from nltk.stem import PorterStemmer\n",
        "from nltk.tokenize import word_tokenize\n",
        "import warnings\n",
        "warnings.filterwarnings('ignore')\n",
        "np.random.seed(37)"
      ],
      "metadata": {
        "colab": {
          "base_uri": "https://localhost:8080/"
        },
        "id": "kpiOkKQYasw2",
        "outputId": "802c8313-ac29-4440-f408-eed25199286f"
      },
      "execution_count": null,
      "outputs": [
        {
          "output_type": "stream",
          "name": "stderr",
          "text": [
            "/usr/local/lib/python3.7/dist-packages/ipykernel_launcher.py:3: FutureWarning: Passing a negative integer is deprecated in version 1.0 and will not be supported in future version. Instead, use None to not limit the column width.\n",
            "  This is separate from the ipykernel package so we can avoid doing imports until\n"
          ]
        }
      ]
    },
    {
      "cell_type": "code",
      "source": [
        "import nltk\n",
        "nltk.download('stopwords')"
      ],
      "metadata": {
        "colab": {
          "base_uri": "https://localhost:8080/"
        },
        "id": "6RE22NdhercL",
        "outputId": "20036a16-36c8-4a24-8dd6-7166a17783df"
      },
      "execution_count": null,
      "outputs": [
        {
          "output_type": "stream",
          "name": "stderr",
          "text": [
            "[nltk_data] Downloading package stopwords to /root/nltk_data...\n",
            "[nltk_data]   Unzipping corpora/stopwords.zip.\n"
          ]
        },
        {
          "output_type": "execute_result",
          "data": {
            "text/plain": [
              "True"
            ]
          },
          "metadata": {},
          "execution_count": 29
        }
      ]
    },
    {
      "cell_type": "code",
      "source": [
        "df = pd.read_csv('/content/drive/MyDrive/Sentimental Analysis/Tweets.csv')\n",
        "df = df.reindex(np.random.permutation(df.index))\n",
        "df = df[['text', 'airline_sentiment']]"
      ],
      "metadata": {
        "id": "oGc5FBnMbNCh"
      },
      "execution_count": null,
      "outputs": []
    },
    {
      "cell_type": "code",
      "source": [
        "sns.factorplot(x=\"airline_sentiment\", data=df, kind=\"count\", size=6, aspect=1.5, palette=\"PuBuGn_d\")\n",
        "plt.show();"
      ],
      "metadata": {
        "colab": {
          "base_uri": "https://localhost:8080/",
          "height": 429
        },
        "id": "VxE3Efa5bwsY",
        "outputId": "2989560d-ef2e-4083-be26-5cae283c0995"
      },
      "execution_count": null,
      "outputs": [
        {
          "output_type": "display_data",
          "data": {
            "text/plain": [
              "<Figure size 648x432 with 1 Axes>"
            ],
            "image/png": "[encoded data removed]"
          },
          "metadata": {}
        }
      ]
    },
    {
      "cell_type": "code",
      "source": [
        "class TextCounts(BaseEstimator, TransformerMixin):\n",
        "    \n",
        "    def count_regex(self, pattern, tweet):\n",
        "        return len(re.findall(pattern, tweet))\n",
        "    \n",
        "    def fit(self, X, y=None, **fit_params):\n",
        "        # fit method is used when specific operations need to be done on the train data, but not on the test data\n",
        "        return self\n",
        "    \n",
        "    def transform(self, X, **transform_params):\n",
        "        count_words = X.apply(lambda x: self.count_regex(r'\\w+', x)) \n",
        "        count_mentions = X.apply(lambda x: self.count_regex(r'@\\w+', x))\n",
        "        count_hashtags = X.apply(lambda x: self.count_regex(r'#\\w+', x))\n",
        "        count_capital_words = X.apply(lambda x: self.count_regex(r'\\b[A-Z]{2,}\\b', x))\n",
        "        count_excl_quest_marks = X.apply(lambda x: self.count_regex(r'!|\\?', x))\n",
        "        count_urls = X.apply(lambda x: self.count_regex(r'http.?://[^\\s]+[\\s]?', x))\n",
        "        # We will replace the emoji symbols with a description, which makes using a regex for counting easier\n",
        "        # Moreover, it will result in having more words in the tweet\n",
        "        count_emojis = X.apply(lambda x: emoji.demojize(x)).apply(lambda x: self.count_regex(r':[a-z_&]+:', x))\n",
        "        \n",
        "        df = pd.DataFrame({'count_words': count_words\n",
        "                           , 'count_mentions': count_mentions\n",
        "                           , 'count_hashtags': count_hashtags\n",
        "                           , 'count_capital_words': count_capital_words\n",
        "                           , 'count_excl_quest_marks': count_excl_quest_marks\n",
        "                           , 'count_urls': count_urls\n",
        "                           , 'count_emojis': count_emojis\n",
        "                          })\n",
        "        \n",
        "        return df\n",
        "tc = TextCounts()\n",
        "df_eda = tc.fit_transform(df.text)\n",
        "df_eda['airline_sentiment'] = df.airline_sentiment"
      ],
      "metadata": {
        "id": "NXQqaWbyb0gd"
      },
      "execution_count": null,
      "outputs": []
    },
    {
      "cell_type": "code",
      "source": [
        "def show_dist(df, col):\n",
        "    print('Descriptive stats for {}'.format(col))\n",
        "    print('-'*(len(col)+22))\n",
        "    print(df.groupby('airline_sentiment')[col].describe())\n",
        "    bins = np.arange(df[col].min(), df[col].max() + 1)\n",
        "    g = sns.FacetGrid(df, col='airline_sentiment', size=5, hue='airline_sentiment', palette=\"PuBuGn_d\")\n",
        "    g = g.map(sns.distplot, col, kde=False, norm_hist=True, bins=bins)\n",
        "    plt.show()\n",
        "   "
      ],
      "metadata": {
        "id": "Lg2tdTlhcnNx"
      },
      "execution_count": null,
      "outputs": []
    },
    {
      "cell_type": "code",
      "source": [
        " show_dist(df_eda, 'count_words')"
      ],
      "metadata": {
        "colab": {
          "base_uri": "https://localhost:8080/",
          "height": 465
        },
        "id": "F7dIqdWVcwqS",
        "outputId": "24072fef-acde-4685-b9e8-42dcc3fe71a4"
      },
      "execution_count": null,
      "outputs": [
        {
          "output_type": "stream",
          "name": "stdout",
          "text": [
            "Descriptive stats for count_words\n",
            "---------------------------------\n",
            "                    count       mean       std  min   25%   50%   75%   max\n",
            "airline_sentiment                                                          \n",
            "negative           9178.0  20.387557  6.100020  2.0  17.0  22.0  25.0  35.0\n",
            "neutral            3099.0  15.290094  7.150738  2.0  10.0  15.0  21.0  34.0\n",
            "positive           2363.0  14.478206  7.266129  2.0  8.0   14.0  21.0  33.0\n"
          ]
        },
        {
          "output_type": "display_data",
          "data": {
            "text/plain": [
              "<Figure size 1080x360 with 3 Axes>"
            ],
            "image/png": "[encoded data removed]"
          },
          "metadata": {}
        }
      ]
    },
    {
      "cell_type": "code",
      "source": [
        "show_dist(df_eda, 'count_mentions')"
      ],
      "metadata": {
        "colab": {
          "base_uri": "https://localhost:8080/",
          "height": 465
        },
        "id": "ocPxtAKBdpRv",
        "outputId": "1bcc82bd-0e65-430a-a640-6319cc84f028"
      },
      "execution_count": null,
      "outputs": [
        {
          "output_type": "stream",
          "name": "stdout",
          "text": [
            "Descriptive stats for count_mentions\n",
            "------------------------------------\n",
            "                    count      mean       std  min  25%  50%  75%  max\n",
            "airline_sentiment                                                     \n",
            "negative           9178.0  1.111244  0.365420  1.0  1.0  1.0  1.0  6.0\n",
            "neutral            3099.0  1.167473  0.480102  1.0  1.0  1.0  1.0  5.0\n",
            "positive           2363.0  1.138383  0.432462  1.0  1.0  1.0  1.0  6.0\n"
          ]
        },
        {
          "output_type": "display_data",
          "data": {
            "text/plain": [
              "<Figure size 1080x360 with 3 Axes>"
            ],
            "image/png": "[encoded data removed]"
          },
          "metadata": {}
        }
      ]
    },
    {
      "cell_type": "code",
      "source": [
        "show_dist(df_eda, 'count_hashtags')"
      ],
      "metadata": {
        "colab": {
          "base_uri": "https://localhost:8080/",
          "height": 465
        },
        "id": "LbATVmULd5JL",
        "outputId": "f36159ec-5619-47cf-ecb0-6c90dbc506b3"
      },
      "execution_count": null,
      "outputs": [
        {
          "output_type": "stream",
          "name": "stdout",
          "text": [
            "Descriptive stats for count_hashtags\n",
            "------------------------------------\n",
            "                    count      mean       std  min  25%  50%  75%  max\n",
            "airline_sentiment                                                     \n",
            "negative           9178.0  0.233384  0.615099  0.0  0.0  0.0  0.0  6.0\n",
            "neutral            3099.0  0.212004  0.666382  0.0  0.0  0.0  0.0  6.0\n",
            "positive           2363.0  0.297503  0.774776  0.0  0.0  0.0  0.0  8.0\n"
          ]
        },
        {
          "output_type": "display_data",
          "data": {
            "text/plain": [
              "<Figure size 1080x360 with 3 Axes>"
            ],
            "image/png": "[encoded data removed]"
          },
          "metadata": {}
        }
      ]
    },
    {
      "cell_type": "code",
      "source": [
        "show_dist(df_eda, 'count_capital_words')"
      ],
      "metadata": {
        "colab": {
          "base_uri": "https://localhost:8080/",
          "height": 465
        },
        "id": "INrti3UHd9OZ",
        "outputId": "e00a4754-31c6-4339-e27e-b0694c9760ca"
      },
      "execution_count": null,
      "outputs": [
        {
          "output_type": "stream",
          "name": "stdout",
          "text": [
            "Descriptive stats for count_capital_words\n",
            "-----------------------------------------\n",
            "                    count      mean       std  min  25%  50%  75%   max\n",
            "airline_sentiment                                                      \n",
            "negative           9178.0  0.429070  1.019710  0.0  0.0  0.0  1.0  22.0\n",
            "neutral            3099.0  0.462085  0.939468  0.0  0.0  0.0  1.0  11.0\n",
            "positive           2363.0  0.461278  1.234078  0.0  0.0  0.0  1.0  20.0\n"
          ]
        },
        {
          "output_type": "display_data",
          "data": {
            "text/plain": [
              "<Figure size 1080x360 with 3 Axes>"
            ],
            "image/png": "[encoded data removed]"
          },
          "metadata": {}
        }
      ]
    },
    {
      "cell_type": "code",
      "source": [
        "show_dist(df_eda, 'count_excl_quest_marks')"
      ],
      "metadata": {
        "colab": {
          "base_uri": "https://localhost:8080/",
          "height": 465
        },
        "id": "epofFm9zeBR6",
        "outputId": "f65fe551-0608-4dc0-b526-5d0d81772b29"
      },
      "execution_count": null,
      "outputs": [
        {
          "output_type": "stream",
          "name": "stdout",
          "text": [
            "Descriptive stats for count_excl_quest_marks\n",
            "--------------------------------------------\n",
            "                    count      mean       std  min  25%  50%  75%   max\n",
            "airline_sentiment                                                      \n",
            "negative           9178.0  0.634125  1.143958  0.0  0.0  0.0  1.0  27.0\n",
            "neutral            3099.0  0.665053  0.928761  0.0  0.0  0.0  1.0  12.0\n",
            "positive           2363.0  0.892510  1.199191  0.0  0.0  1.0  1.0  13.0\n"
          ]
        },
        {
          "output_type": "display_data",
          "data": {
            "text/plain": [
              "<Figure size 1080x360 with 3 Axes>"
            ],
            "image/png": "[encoded data removed]"
          },
          "metadata": {}
        }
      ]
    },
    {
      "cell_type": "code",
      "source": [
        "show_dist(df_eda, 'count_emojis')"
      ],
      "metadata": {
        "colab": {
          "base_uri": "https://localhost:8080/",
          "height": 465
        },
        "id": "zbNGpSFTeEMW",
        "outputId": "509ae53c-5c3a-4632-ca24-5dd0ae937ff1"
      },
      "execution_count": null,
      "outputs": [
        {
          "output_type": "stream",
          "name": "stdout",
          "text": [
            "Descriptive stats for count_emojis\n",
            "----------------------------------\n",
            "                    count      mean       std  min  25%  50%  75%   max\n",
            "airline_sentiment                                                      \n",
            "negative           9178.0  0.028547  0.258772  0.0  0.0  0.0  0.0  8.0 \n",
            "neutral            3099.0  0.075831  0.492415  0.0  0.0  0.0  0.0  13.0\n",
            "positive           2363.0  0.181549  1.257512  0.0  0.0  0.0  0.0  40.0\n"
          ]
        },
        {
          "output_type": "display_data",
          "data": {
            "text/plain": [
              "<Figure size 1080x360 with 3 Axes>"
            ],
            "image/png": "[encoded data removed]"
          },
          "metadata": {}
        }
      ]
    },
    {
      "cell_type": "code",
      "source": [
        "class CleanText(BaseEstimator, TransformerMixin):\n",
        "   \n",
        "    def remove_mentions(self, input_text):\n",
        "        return re.sub(r'@\\w+', '', input_text)\n",
        "    \n",
        "    def remove_urls(self, input_text):\n",
        "        return re.sub(r'http.?://[^\\s]+[\\s]?', '', input_text)\n",
        "    \n",
        "    def emoji_oneword(self, input_text):\n",
        "        # By compressing the underscore, the emoji is kept as one word\n",
        "        return input_text.replace('_','')\n",
        "    \n",
        "    def remove_punctuation(self, input_text):\n",
        "        # Make translation table\n",
        "        punct = string.punctuation\n",
        "        trantab = str.maketrans(punct, len(punct)*' ')  # Every punctuation symbol will be replaced by a space\n",
        "        return input_text.translate(trantab)\n",
        "\n",
        "    def remove_digits(self, input_text):\n",
        "        return re.sub('\\d+', '', input_text)\n",
        "    \n",
        "    def to_lower(self, input_text):\n",
        "        return input_text.lower()\n",
        "    \n",
        "    def remove_stopwords(self, input_text):\n",
        "        stopwords_list = stopwords.words('english')\n",
        "        # Some words which might indicate a certain sentiment are kept via a whitelist\n",
        "        whitelist = [\"n't\", \"not\", \"no\"]\n",
        "        words = input_text.split() \n",
        "        clean_words = [word for word in words if (word not in stopwords_list or word in whitelist) and len(word) > 1] \n",
        "        return \" \".join(clean_words) \n",
        "    \n",
        "    def stemming(self, input_text):\n",
        "        porter = PorterStemmer()\n",
        "        words = input_text.split() \n",
        "        stemmed_words = [porter.stem(word) for word in words]\n",
        "        return \" \".join(stemmed_words)\n",
        "    \n",
        "    def fit(self, X, y=None, **fit_params):\n",
        "        return self\n",
        "    \n",
        "    def transform(self, X, **transform_params):\n",
        "        clean_X = X.apply(self.remove_mentions).apply(self.remove_urls).apply(self.emoji_oneword).apply(self.remove_punctuation).apply(self.remove_digits).apply(self.to_lower).apply(self.remove_stopwords).apply(self.stemming)\n",
        "        return clean_X"
      ],
      "metadata": {
        "id": "G4IRCOqGeJTg"
      },
      "execution_count": null,
      "outputs": []
    },
    {
      "cell_type": "code",
      "source": [
        "ct = CleanText()\n",
        "sr_clean = ct.fit_transform(df.text)\n",
        "sr_clean.sample(5)"
      ],
      "metadata": {
        "colab": {
          "base_uri": "https://localhost:8080/"
        },
        "id": "PqUDRIn5ecUi",
        "outputId": "244a71fc-7b77-4c8a-c60d-0cb8310d7745"
      },
      "execution_count": null,
      "outputs": [
        {
          "output_type": "execute_result",
          "data": {
            "text/plain": [
              "12222    glad rt bet bird wish flown south winter                         \n",
              "3936     point upc code check baggag tell luggag vacat day tri swimsuit   \n",
              "367      vx jfk la dirti plane not standard                               \n",
              "12257    tell mean work need estim time arriv pleas need laptop work thank\n",
              "2957     sure busi go els airlin travel name kathryn sotelo               \n",
              "Name: text, dtype: object"
            ]
          },
          "metadata": {},
          "execution_count": 30
        }
      ]
    },
    {
      "cell_type": "code",
      "source": [
        "cv = CountVectorizer()\n",
        "bow = cv.fit_transform(sr_clean)\n",
        "word_freq = dict(zip(cv.get_feature_names(), np.asarray(bow.sum(axis=0)).ravel()))\n",
        "word_counter = collections.Counter(word_freq)\n",
        "word_counter_df = pd.DataFrame(word_counter.most_common(20), columns = ['word', 'freq'])\n",
        "\n",
        "fig, ax = plt.subplots(figsize=(12, 10))\n",
        "bar_freq_word = sns.barplot(x=\"word\", y=\"freq\", data=word_counter_df, palette=\"PuBuGn_d\", ax=ax)\n",
        "plt.show();\n"
      ],
      "metadata": {
        "colab": {
          "base_uri": "https://localhost:8080/",
          "height": 617
        },
        "id": "x2hMA6quehsU",
        "outputId": "a1ab50e2-8374-4751-f0d9-0b74d68770a1"
      },
      "execution_count": null,
      "outputs": [
        {
          "output_type": "display_data",
          "data": {
            "text/plain": [
              "<Figure size 864x720 with 1 Axes>"
            ],
            "image/png": "[encoded data removed]"
          },
          "metadata": {}
        }
      ]
    },
    {
      "cell_type": "code",
      "source": [
        "df_model = df_eda\n",
        "df_model['clean_text'] = sr_clean\n",
        "df_model.columns.tolist()"
      ],
      "metadata": {
        "colab": {
          "base_uri": "https://localhost:8080/"
        },
        "id": "6sMpPnahe-jk",
        "outputId": "54657b5d-150d-4f44-9e54-07af5c790e6a"
      },
      "execution_count": null,
      "outputs": [
        {
          "output_type": "execute_result",
          "data": {
            "text/plain": [
              "['count_words',\n",
              " 'count_mentions',\n",
              " 'count_hashtags',\n",
              " 'count_capital_words',\n",
              " 'count_excl_quest_marks',\n",
              " 'count_urls',\n",
              " 'count_emojis',\n",
              " 'airline_sentiment',\n",
              " 'clean_text']"
            ]
          },
          "metadata": {},
          "execution_count": 33
        }
      ]
    },
    {
      "cell_type": "code",
      "source": [
        "class ColumnExtractor(TransformerMixin, BaseEstimator):\n",
        "    def __init__(self, cols):\n",
        "        self.cols = cols\n",
        "\n",
        "    def transform(self, X, **transform_params):\n",
        "        return X[self.cols]\n",
        "\n",
        "    def fit(self, X, y=None, **fit_params):\n",
        "        return self"
      ],
      "metadata": {
        "id": "jtv1H_utfFZf"
      },
      "execution_count": null,
      "outputs": []
    },
    {
      "cell_type": "code",
      "source": [
        "X_train, X_test, y_train, y_test = train_test_split(df_model.drop('airline_sentiment', axis=1), df_model.airline_sentiment, test_size=0.1)"
      ],
      "metadata": {
        "id": "4OijvkXNgNxz"
      },
      "execution_count": null,
      "outputs": []
    },
    {
      "cell_type": "code",
      "source": [
        "def grid_vect(clf, parameters_clf, X_train, X_test, parameters_text=None, vect=None, is_w2v=False):\n",
        "    \n",
        "    textcountscols = ['count_capital_words','count_emojis','count_excl_quest_marks','count_hashtags'\n",
        "                      ,'count_mentions','count_urls','count_words']\n",
        "    \n",
        "    if is_w2v:\n",
        "        w2vcols = []\n",
        "        for i in range(SIZE):\n",
        "            w2vcols.append(i)\n",
        "        features = FeatureUnion([('textcounts', ColumnExtractor(cols=textcountscols))\n",
        "                                 , ('w2v', ColumnExtractor(cols=w2vcols))]\n",
        "                                , n_jobs=-1)\n",
        "    else:\n",
        "        features = FeatureUnion([('textcounts', ColumnExtractor(cols=textcountscols))\n",
        "                                 , ('pipe', Pipeline([('cleantext', ColumnExtractor(cols='clean_text')), ('vect', vect)]))]\n",
        "                                , n_jobs=-1)\n",
        "\n",
        "    \n",
        "    pipeline = Pipeline([\n",
        "        ('features', features)\n",
        "        , ('clf', clf)\n",
        "    ])\n",
        "    \n",
        "    # Join the parameters dictionaries together\n",
        "    parameters = dict()\n",
        "    if parameters_text:\n",
        "        parameters.update(parameters_text)\n",
        "    parameters.update(parameters_clf)\n",
        "\n",
        "    # Make sure you have scikit-learn version 0.19 or higher to use multiple scoring metrics\n",
        "    grid_search = GridSearchCV(pipeline, parameters, n_jobs=-1, verbose=1, cv=5)\n",
        "    \n",
        "    print(\"Performing grid search...\")\n",
        "    print(\"pipeline:\", [name for name, _ in pipeline.steps])\n",
        "    print(\"parameters:\")\n",
        "    pprint(parameters)\n",
        "\n",
        "    t0 = time()\n",
        "    grid_search.fit(X_train, y_train)\n",
        "    print(\"done in %0.3fs\" % (time() - t0))\n",
        "    print()\n",
        "\n",
        "    print(\"Best CV score: %0.3f\" % grid_search.best_score_)\n",
        "    print(\"Best parameters set:\")\n",
        "    best_parameters = grid_search.best_estimator_.get_params()\n",
        "    for param_name in sorted(parameters.keys()):\n",
        "        print(\"\\t%s: %r\" % (param_name, best_parameters[param_name]))\n",
        "        \n",
        "    print(\"Test score with best_estimator_: %0.3f\" % grid_search.best_estimator_.score(X_test, y_test))\n",
        "    print(\"\\n\")\n",
        "    print(\"Classification Report Test Data\")\n",
        "    print(classification_report(y_test, grid_search.best_estimator_.predict(X_test)))\n",
        "                        \n",
        "    return grid_search\n"
      ],
      "metadata": {
        "id": "V6MnsoASfJOq"
      },
      "execution_count": null,
      "outputs": []
    },
    {
      "cell_type": "code",
      "source": [
        "# Parameter grid settings for the vectorizers (Count and TFIDF)\n",
        "parameters_vect = {\n",
        "    'features__pipe__vect__max_df': (0.25, 0.5, 0.75),\n",
        "    'features__pipe__vect__ngram_range': ((1, 1), (1, 2)),\n",
        "    'features__pipe__vect__min_df': (1,2)\n",
        "}\n",
        "\n",
        "\n",
        "# Parameter grid settings for MultinomialNB\n",
        "parameters_mnb = {\n",
        "    'clf__alpha': (0.25, 0.5, 0.75)\n",
        "}\n",
        "\n",
        "\n",
        "# Parameter grid settings for LogisticRegression\n",
        "parameters_logreg = {\n",
        "    'clf__C': (0.25, 0.5, 1.0),\n",
        "    'clf__penalty': ('l1', 'l2')\n",
        "}"
      ],
      "metadata": {
        "id": "y-73B1OhfPOn"
      },
      "execution_count": null,
      "outputs": []
    },
    {
      "cell_type": "markdown",
      "source": [
        ""
      ],
      "metadata": {
        "id": "UfBrorY4fmc9"
      }
    },
    {
      "cell_type": "code",
      "source": [
        "mnb = MultinomialNB()\n",
        "logreg = LogisticRegression()"
      ],
      "metadata": {
        "id": "9oudGm5dfR2k"
      },
      "execution_count": null,
      "outputs": []
    },
    {
      "cell_type": "code",
      "source": [
        "countvect = CountVectorizer()"
      ],
      "metadata": {
        "id": "PvkyR0ZvfUQD"
      },
      "execution_count": null,
      "outputs": []
    },
    {
      "cell_type": "code",
      "source": [
        "best_mnb_countvect = grid_vect(mnb, parameters_mnb, X_train, X_test, parameters_text=parameters_vect, vect=countvect)"
      ],
      "metadata": {
        "colab": {
          "base_uri": "https://localhost:8080/"
        },
        "id": "3k0RtQgGfWkr",
        "outputId": "2e622fc6-0580-4884-cb8a-0ff248af1bec"
      },
      "execution_count": null,
      "outputs": [
        {
          "output_type": "stream",
          "name": "stdout",
          "text": [
            "Performing grid search...\n",
            "pipeline: ['features', 'clf']\n",
            "parameters:\n",
            "{'clf__alpha': (0.25, 0.5, 0.75),\n",
            " 'features__pipe__vect__max_df': (0.25, 0.5, 0.75),\n",
            " 'features__pipe__vect__min_df': (1, 2),\n",
            " 'features__pipe__vect__ngram_range': ((1, 1), (1, 2))}\n",
            "Fitting 5 folds for each of 36 candidates, totalling 180 fits\n",
            "done in 44.151s\n",
            "\n",
            "Best CV score: 0.779\n",
            "Best parameters set:\n",
            "\tclf__alpha: 0.75\n",
            "\tfeatures__pipe__vect__max_df: 0.25\n",
            "\tfeatures__pipe__vect__min_df: 2\n",
            "\tfeatures__pipe__vect__ngram_range: (1, 1)\n",
            "Test score with best_estimator_: 0.758\n",
            "\n",
            "\n",
            "Classification Report Test Data\n",
            "              precision    recall  f1-score   support\n",
            "\n",
            "    negative       0.80      0.91      0.85       874\n",
            "     neutral       0.63      0.45      0.53       350\n",
            "    positive       0.71      0.67      0.69       240\n",
            "\n",
            "    accuracy                           0.76      1464\n",
            "   macro avg       0.71      0.67      0.69      1464\n",
            "weighted avg       0.75      0.76      0.75      1464\n",
            "\n"
          ]
        }
      ]
    },
    {
      "cell_type": "code",
      "source": [
        "tfidfvect = TfidfVectorizer()"
      ],
      "metadata": {
        "id": "MuUlsOldfaNT"
      },
      "execution_count": null,
      "outputs": []
    },
    {
      "cell_type": "code",
      "source": [
        "# MultinomialNB\n",
        "best_mnb_tfidf = grid_vect(mnb, parameters_mnb, X_train, X_test, parameters_text=parameters_vect, vect=tfidfvect)"
      ],
      "metadata": {
        "colab": {
          "base_uri": "https://localhost:8080/"
        },
        "id": "5QjkA7Ykg3es",
        "outputId": "cc6004a3-87f2-4eba-f841-8cf0f5ac4c8a"
      },
      "execution_count": null,
      "outputs": [
        {
          "output_type": "stream",
          "name": "stdout",
          "text": [
            "Performing grid search...\n",
            "pipeline: ['features', 'clf']\n",
            "parameters:\n",
            "{'clf__alpha': (0.25, 0.5, 0.75),\n",
            " 'features__pipe__vect__max_df': (0.25, 0.5, 0.75),\n",
            " 'features__pipe__vect__min_df': (1, 2),\n",
            " 'features__pipe__vect__ngram_range': ((1, 1), (1, 2))}\n",
            "Fitting 5 folds for each of 36 candidates, totalling 180 fits\n",
            "done in 44.611s\n",
            "\n",
            "Best CV score: 0.752\n",
            "Best parameters set:\n",
            "\tclf__alpha: 0.25\n",
            "\tfeatures__pipe__vect__max_df: 0.25\n",
            "\tfeatures__pipe__vect__min_df: 2\n",
            "\tfeatures__pipe__vect__ngram_range: (1, 2)\n",
            "Test score with best_estimator_: 0.725\n",
            "\n",
            "\n",
            "Classification Report Test Data\n",
            "              precision    recall  f1-score   support\n",
            "\n",
            "    negative       0.72      0.97      0.83       874\n",
            "     neutral       0.71      0.31      0.43       350\n",
            "    positive       0.78      0.44      0.56       240\n",
            "\n",
            "    accuracy                           0.72      1464\n",
            "   macro avg       0.74      0.57      0.61      1464\n",
            "weighted avg       0.73      0.72      0.69      1464\n",
            "\n"
          ]
        }
      ]
    },
    {
      "cell_type": "code",
      "source": [
        "# LogisticRegression\n",
        "best_logreg_tfidf = grid_vect(logreg, parameters_logreg, X_train, X_test, parameters_text=parameters_vect, vect=tfidfvect)"
      ],
      "metadata": {
        "colab": {
          "base_uri": "https://localhost:8080/"
        },
        "id": "cSYU7ZaLg7CJ",
        "outputId": "6199bda7-f158-4539-ae4c-16012a51d705"
      },
      "execution_count": null,
      "outputs": [
        {
          "output_type": "stream",
          "name": "stdout",
          "text": [
            "Performing grid search...\n",
            "pipeline: ['features', 'clf']\n",
            "parameters:\n",
            "{'clf__C': (0.25, 0.5, 1.0),\n",
            " 'clf__penalty': ('l1', 'l2'),\n",
            " 'features__pipe__vect__max_df': (0.25, 0.5, 0.75),\n",
            " 'features__pipe__vect__min_df': (1, 2),\n",
            " 'features__pipe__vect__ngram_range': ((1, 1), (1, 2))}\n",
            "Fitting 5 folds for each of 72 candidates, totalling 360 fits\n",
            "done in 220.772s\n",
            "\n",
            "Best CV score: 0.759\n",
            "Best parameters set:\n",
            "\tclf__C: 1.0\n",
            "\tclf__penalty: 'l2'\n",
            "\tfeatures__pipe__vect__max_df: 0.25\n",
            "\tfeatures__pipe__vect__min_df: 2\n",
            "\tfeatures__pipe__vect__ngram_range: (1, 2)\n",
            "Test score with best_estimator_: 0.743\n",
            "\n",
            "\n",
            "Classification Report Test Data\n",
            "              precision    recall  f1-score   support\n",
            "\n",
            "    negative       0.78      0.92      0.84       874\n",
            "     neutral       0.64      0.45      0.53       350\n",
            "    positive       0.69      0.52      0.59       240\n",
            "\n",
            "    accuracy                           0.74      1464\n",
            "   macro avg       0.70      0.63      0.66      1464\n",
            "weighted avg       0.73      0.74      0.73      1464\n",
            "\n"
          ]
        }
      ]
    },
    {
      "cell_type": "markdown",
      "source": [
        ""
      ],
      "metadata": {
        "id": "0-v0BDpgiW7w"
      }
    },
    {
      "cell_type": "code",
      "source": [
        "nltk.download('punkt')"
      ],
      "metadata": {
        "colab": {
          "base_uri": "https://localhost:8080/"
        },
        "id": "yFDSEjCoiXj-",
        "outputId": "64575269-13b7-4764-a677-857778a5954c"
      },
      "execution_count": null,
      "outputs": [
        {
          "output_type": "stream",
          "name": "stderr",
          "text": [
            "[nltk_data] Downloading package punkt to /root/nltk_data...\n",
            "[nltk_data]   Unzipping tokenizers/punkt.zip.\n"
          ]
        },
        {
          "output_type": "execute_result",
          "data": {
            "text/plain": [
              "True"
            ]
          },
          "metadata": {},
          "execution_count": 48
        }
      ]
    },
    {
      "cell_type": "code",
      "source": [
        "SIZE = 25\n",
        "\n",
        "X_train['clean_text_wordlist'] = X_train.clean_text.apply(lambda x : word_tokenize(x))\n",
        "X_test['clean_text_wordlist'] = X_test.clean_text.apply(lambda x : word_tokenize(x))\n",
        "\n",
        "model = gensim.models.Word2Vec(X_train.clean_text_wordlist\n",
        "                 , min_count=1\n",
        "                 , size=SIZE\n",
        "                 , window=3\n",
        "                 , workers=4)"
      ],
      "metadata": {
        "colab": {
          "base_uri": "https://localhost:8080/"
        },
        "id": "FgF8ktPLhLqI",
        "outputId": "c37d4263-62a2-4ae3-f70d-7811b108a154"
      },
      "execution_count": null,
      "outputs": [
        {
          "output_type": "stream",
          "name": "stderr",
          "text": [
            "WARNING:gensim.models.base_any2vec:consider setting layer size to a multiple of 4 for greater performance\n"
          ]
        }
      ]
    },
    {
      "cell_type": "code",
      "source": [
        "model.most_similar('plane', topn=3)"
      ],
      "metadata": {
        "colab": {
          "base_uri": "https://localhost:8080/"
        },
        "id": "hZQPsXQiibe9",
        "outputId": "0716e952-5227-4df6-cc81-1a277a914484"
      },
      "execution_count": null,
      "outputs": [
        {
          "output_type": "execute_result",
          "data": {
            "text/plain": [
              "[('tarmac', 0.9987282156944275),\n",
              " ('still', 0.9980265498161316),\n",
              " ('sit', 0.9978595972061157)]"
            ]
          },
          "metadata": {},
          "execution_count": 50
        }
      ]
    },
    {
      "cell_type": "code",
      "source": [
        "def compute_avg_w2v_vector(w2v_dict, tweet):\n",
        "    list_of_word_vectors = [w2v_dict[w] for w in tweet if w in w2v_dict.vocab.keys()]\n",
        "    \n",
        "    if len(list_of_word_vectors) == 0:\n",
        "        result = [0.0]*SIZE\n",
        "    else:\n",
        "        result = np.sum(list_of_word_vectors, axis=0) / len(list_of_word_vectors)\n",
        "        \n",
        "    return result"
      ],
      "metadata": {
        "id": "ulqUS0vinMzd"
      },
      "execution_count": null,
      "outputs": []
    },
    {
      "cell_type": "code",
      "source": [
        "X_train_w2v = X_train['clean_text_wordlist'].apply(lambda x: compute_avg_w2v_vector(model.wv, x))\n",
        "X_test_w2v = X_test['clean_text_wordlist'].apply(lambda x: compute_avg_w2v_vector(model.wv, x))"
      ],
      "metadata": {
        "id": "YsXd7LzznPy1"
      },
      "execution_count": null,
      "outputs": []
    },
    {
      "cell_type": "code",
      "source": [
        "X_train_w2v = pd.DataFrame(X_train_w2v.values.tolist(), index= X_train.index)\n",
        "X_test_w2v = pd.DataFrame(X_test_w2v.values.tolist(), index= X_test.index)\n",
        "\n",
        "# Concatenate with the TextCounts variables\n",
        "X_train_w2v = pd.concat([X_train_w2v, X_train.drop(['clean_text', 'clean_text_wordlist'], axis=1)], axis=1)\n",
        "X_test_w2v = pd.concat([X_test_w2v, X_test.drop(['clean_text', 'clean_text_wordlist'], axis=1)], axis=1)"
      ],
      "metadata": {
        "id": "tdMxoj3pnSdo"
      },
      "execution_count": null,
      "outputs": []
    },
    {
      "cell_type": "code",
      "source": [
        "best_logreg_w2v = grid_vect(logreg, parameters_logreg, X_train_w2v, X_test_w2v, is_w2v=True)"
      ],
      "metadata": {
        "colab": {
          "base_uri": "https://localhost:8080/"
        },
        "id": "SLo9XFV1nUzW",
        "outputId": "61f2c4a1-238c-477f-80f2-e037fdde0d86"
      },
      "execution_count": null,
      "outputs": [
        {
          "output_type": "stream",
          "name": "stdout",
          "text": [
            "Performing grid search...\n",
            "pipeline: ['features', 'clf']\n",
            "parameters:\n",
            "{'clf__C': (0.25, 0.5, 1.0), 'clf__penalty': ('l1', 'l2')}\n",
            "Fitting 5 folds for each of 6 candidates, totalling 30 fits\n",
            "done in 10.258s\n",
            "\n",
            "Best CV score: 0.691\n",
            "Best parameters set:\n",
            "\tclf__C: 1.0\n",
            "\tclf__penalty: 'l2'\n",
            "Test score with best_estimator_: 0.670\n",
            "\n",
            "\n",
            "Classification Report Test Data\n",
            "              precision    recall  f1-score   support\n",
            "\n",
            "    negative       0.70      0.93      0.80       874\n",
            "     neutral       0.56      0.32      0.41       350\n",
            "    positive       0.51      0.24      0.33       240\n",
            "\n",
            "    accuracy                           0.67      1464\n",
            "   macro avg       0.59      0.50      0.51      1464\n",
            "weighted avg       0.64      0.67      0.63      1464\n",
            "\n"
          ]
        }
      ]
    },
    {
      "cell_type": "code",
      "source": [
        "textcountscols = ['count_capital_words','count_emojis','count_excl_quest_marks','count_hashtags'\n",
        "                      ,'count_mentions','count_urls','count_words']\n",
        "    \n",
        "features = FeatureUnion([('textcounts', ColumnExtractor(cols=textcountscols))\n",
        "                         , ('pipe', Pipeline([('cleantext', ColumnExtractor(cols='clean_text'))\n",
        "                                              , ('vect', CountVectorizer(max_df=0.5, min_df=1, ngram_range=(1,2)))]))]\n",
        "                       , n_jobs=-1)\n",
        "\n",
        "pipeline = Pipeline([\n",
        "    ('features', features)\n",
        "    , ('clf', LogisticRegression(C=1.0, penalty='l2'))\n",
        "])\n",
        "\n",
        "best_model = pipeline.fit(df_model.drop('airline_sentiment', axis=1), df_model.airline_sentiment)"
      ],
      "metadata": {
        "id": "OI6mPjbwnYgE"
      },
      "execution_count": null,
      "outputs": []
    },
    {
      "cell_type": "code",
      "source": [
        "new_positive_tweets = pd.Series([\"Thank you @VirginAmerica for you amazing customer support team on Tuesday 11/28 at @EWRairport and returning my lost bag in less than 24h! #efficiencyiskey #virginamerica\"\n",
        "                      ,\"Love flying with you guys ask these years.  Sad that this will be the last trip 😂   @VirginAmerica  #LuxuryTravel\"\n",
        "                      ,\"Wow @VirginAmerica main cabin select is the way to fly!! This plane is nice and clean & I have tons of legroom! Wahoo! NYC bound! ✈️\"])\n",
        "\n",
        "df_counts_pos = tc.transform(new_positive_tweets)\n",
        "df_clean_pos = ct.transform(new_positive_tweets)\n",
        "df_model_pos = df_counts_pos\n",
        "df_model_pos['clean_text'] = df_clean_pos\n",
        "\n",
        "best_model.predict(df_model_pos).tolist()"
      ],
      "metadata": {
        "id": "cTVQJSonoDN0",
        "colab": {
          "base_uri": "https://localhost:8080/"
        },
        "outputId": "b9f40f45-d669-46b2-8d43-4bbb8cf4399e"
      },
      "execution_count": null,
      "outputs": [
        {
          "output_type": "execute_result",
          "data": {
            "text/plain": [
              "['positive', 'positive', 'positive']"
            ]
          },
          "metadata": {},
          "execution_count": 56
        }
      ]
    },
    {
      "cell_type": "code",
      "source": [
        "new_negative_tweets = pd.Series([\"@VirginAmerica shocked my initially with the service, but then went on to shock me further with no response to what my complaint was. #unacceptable @Delta @richardbranson\"\n",
        "                      ,\"@VirginAmerica this morning I was forced to repack a suitcase w a medical device because it was barely overweight - wasn't even given an option to pay extra. My spouses suitcase then burst at the seam with the added device and had to be taped shut. Awful experience so far!\"\n",
        "                      ,\"Board airplane home. Computer issue. Get off plane, traverse airport to gate on opp side. Get on new plane hour later. Plane too heavy. 8 volunteers get off plane. Ohhh the adventure of travel ✈️ @VirginAmerica\"])\n",
        "\n",
        "df_counts_neg = tc.transform(new_negative_tweets)\n",
        "df_clean_neg = ct.transform(new_negative_tweets)\n",
        "df_model_neg = df_counts_neg\n",
        "df_model_neg['clean_text'] = df_clean_neg\n",
        "\n",
        "best_model.predict(df_model_neg).tolist()"
      ],
      "metadata": {
        "colab": {
          "base_uri": "https://localhost:8080/"
        },
        "id": "w6dYyK-Ho002",
        "outputId": "20b50a89-9396-4da8-f389-eb626151d0fa"
      },
      "execution_count": null,
      "outputs": [
        {
          "output_type": "execute_result",
          "data": {
            "text/plain": [
              "['negative', 'negative', 'negative']"
            ]
          },
          "metadata": {},
          "execution_count": 57
        }
      ]
    },
    {
      "cell_type": "code",
      "source": [
        ""
      ],
      "metadata": {
        "id": "hAwpH-zpo1dk"
      },
      "execution_count": null,
      "outputs": []
    }
  ]
}